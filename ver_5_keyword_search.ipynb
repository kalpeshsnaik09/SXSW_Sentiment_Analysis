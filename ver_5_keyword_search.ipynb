{
 "cells": [
  {
   "cell_type": "code",
   "execution_count": 1,
   "metadata": {},
   "outputs": [],
   "source": [
    "import pandas as pd\n",
    "import numpy as np\n",
    "import nltk\n",
    "\n",
    "lem=nltk.stem.WordNetLemmatizer()"
   ]
  },
  {
   "cell_type": "code",
   "execution_count": 2,
   "metadata": {},
   "outputs": [],
   "source": [
    "data=pd.read_csv('Data/train.csv')"
   ]
  },
  {
   "cell_type": "code",
   "execution_count": 3,
   "metadata": {},
   "outputs": [],
   "source": [
    "def keyword_search(keyword):\n",
    "    res=[]\n",
    "    keyword=keyword.lower()\n",
    "    for i in range(len(data)):\n",
    "        res_dict={}\n",
    "        text=str(data.iloc[i,1]).lower()\n",
    "        text=nltk.word_tokenize(text)\n",
    "        text=[lem.lemmatize(t) for t in text]\n",
    "        if keyword in text:\n",
    "            res_dict['id']=data.iloc[i,0]\n",
    "            res_dict['tweet']=data.iloc[i,1]            \n",
    "            res_dict['sentiment']=data.iloc[i,2]\n",
    "            res.append(res_dict)\n",
    "    return pd.DataFrame(res)"
   ]
  },
  {
   "cell_type": "code",
   "execution_count": 4,
   "metadata": {},
   "outputs": [],
   "source": [
    "ipad_data=keyword_search('ipad')"
   ]
  },
  {
   "cell_type": "code",
   "execution_count": 5,
   "metadata": {},
   "outputs": [
    {
     "data": {
      "text/html": [
       "<div>\n",
       "<style scoped>\n",
       "    .dataframe tbody tr th:only-of-type {\n",
       "        vertical-align: middle;\n",
       "    }\n",
       "\n",
       "    .dataframe tbody tr th {\n",
       "        vertical-align: top;\n",
       "    }\n",
       "\n",
       "    .dataframe thead th {\n",
       "        text-align: right;\n",
       "    }\n",
       "</style>\n",
       "<table border=\"1\" class=\"dataframe\">\n",
       "  <thead>\n",
       "    <tr style=\"text-align: right;\">\n",
       "      <th></th>\n",
       "      <th>id</th>\n",
       "      <th>tweet</th>\n",
       "      <th>sentiment</th>\n",
       "    </tr>\n",
       "  </thead>\n",
       "  <tbody>\n",
       "    <tr>\n",
       "      <th>0</th>\n",
       "      <td>3604</td>\n",
       "      <td>Line outside the Apple store in Austin waiting...</td>\n",
       "      <td>1</td>\n",
       "    </tr>\n",
       "    <tr>\n",
       "      <th>1</th>\n",
       "      <td>966</td>\n",
       "      <td>#technews One lone dude awaits iPad 2 at Apple...</td>\n",
       "      <td>1</td>\n",
       "    </tr>\n",
       "    <tr>\n",
       "      <th>2</th>\n",
       "      <td>1395</td>\n",
       "      <td>SXSW Tips, Prince, NPR Videos, Toy Shopping Wi...</td>\n",
       "      <td>1</td>\n",
       "    </tr>\n",
       "    <tr>\n",
       "      <th>3</th>\n",
       "      <td>883</td>\n",
       "      <td>I think I might go all weekend without seeing ...</td>\n",
       "      <td>2</td>\n",
       "    </tr>\n",
       "    <tr>\n",
       "      <th>4</th>\n",
       "      <td>6398</td>\n",
       "      <td>RT @mention Official #SXSW App Û÷SXSW GOÛª b...</td>\n",
       "      <td>3</td>\n",
       "    </tr>\n",
       "    <tr>\n",
       "      <th>...</th>\n",
       "      <td>...</td>\n",
       "      <td>...</td>\n",
       "      <td>...</td>\n",
       "    </tr>\n",
       "    <tr>\n",
       "      <th>1854</th>\n",
       "      <td>5290</td>\n",
       "      <td>RT @mention #SXSW gear bag: iPad 2, iPhone, Mo...</td>\n",
       "      <td>1</td>\n",
       "    </tr>\n",
       "    <tr>\n",
       "      <th>1855</th>\n",
       "      <td>7424</td>\n",
       "      <td>Sweet, Apple's opening a pop-up shop in the Sc...</td>\n",
       "      <td>2</td>\n",
       "    </tr>\n",
       "    <tr>\n",
       "      <th>1856</th>\n",
       "      <td>6157</td>\n",
       "      <td>RT @mention iPad hipster #AustinCrowd #SXSW {l...</td>\n",
       "      <td>2</td>\n",
       "    </tr>\n",
       "    <tr>\n",
       "      <th>1857</th>\n",
       "      <td>1273</td>\n",
       "      <td>There are two apple stores in ATX!! RT @mentio...</td>\n",
       "      <td>2</td>\n",
       "    </tr>\n",
       "    <tr>\n",
       "      <th>1858</th>\n",
       "      <td>2173</td>\n",
       "      <td>We just launched our iPad app at #SXSW! Get al...</td>\n",
       "      <td>1</td>\n",
       "    </tr>\n",
       "  </tbody>\n",
       "</table>\n",
       "<p>1859 rows × 3 columns</p>\n",
       "</div>"
      ],
      "text/plain": [
       "        id                                              tweet  sentiment\n",
       "0     3604  Line outside the Apple store in Austin waiting...          1\n",
       "1      966  #technews One lone dude awaits iPad 2 at Apple...          1\n",
       "2     1395  SXSW Tips, Prince, NPR Videos, Toy Shopping Wi...          1\n",
       "3      883  I think I might go all weekend without seeing ...          2\n",
       "4     6398  RT @mention Official #SXSW App Û÷SXSW GOÛª b...          3\n",
       "...    ...                                                ...        ...\n",
       "1854  5290  RT @mention #SXSW gear bag: iPad 2, iPhone, Mo...          1\n",
       "1855  7424  Sweet, Apple's opening a pop-up shop in the Sc...          2\n",
       "1856  6157  RT @mention iPad hipster #AustinCrowd #SXSW {l...          2\n",
       "1857  1273  There are two apple stores in ATX!! RT @mentio...          2\n",
       "1858  2173  We just launched our iPad app at #SXSW! Get al...          1\n",
       "\n",
       "[1859 rows x 3 columns]"
      ]
     },
     "execution_count": 5,
     "metadata": {},
     "output_type": "execute_result"
    }
   ],
   "source": [
    "ipad_data"
   ]
  },
  {
   "cell_type": "code",
   "execution_count": null,
   "metadata": {},
   "outputs": [],
   "source": []
  }
 ],
 "metadata": {
  "kernelspec": {
   "display_name": "Python 3",
   "language": "python",
   "name": "python3"
  },
  "language_info": {
   "codemirror_mode": {
    "name": "ipython",
    "version": 3
   },
   "file_extension": ".py",
   "mimetype": "text/x-python",
   "name": "python",
   "nbconvert_exporter": "python",
   "pygments_lexer": "ipython3",
   "version": "3.7.4"
  }
 },
 "nbformat": 4,
 "nbformat_minor": 2
}
